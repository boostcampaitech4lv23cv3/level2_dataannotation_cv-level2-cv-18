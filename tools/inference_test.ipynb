{
 "cells": [
  {
   "cell_type": "code",
   "execution_count": 15,
   "metadata": {},
   "outputs": [],
   "source": [
    "import os\n",
    "import os.path as osp\n",
    "import json\n",
    "from argparse import ArgumentParser\n",
    "from glob import glob\n",
    "\n",
    "import torch\n",
    "import cv2\n",
    "from torch import cuda\n",
    "from model import EAST\n",
    "from tqdm import tqdm\n",
    "\n",
    "import numpy\n",
    "import sys\n",
    "sys.path.append('../')\n",
    "from inference import do_inference\n",
    "from deteval import calc_deteval_metrics"
   ]
  },
  {
   "cell_type": "code",
   "execution_count": 16,
   "metadata": {},
   "outputs": [
    {
     "name": "stdout",
     "output_type": "stream",
     "text": [
      "Namespace(batch_size=1, data_dir='../../input/data/merged-dataset/', device='cuda', input_size=1024, model_dir='../trained_models/', output_dir='./')\n"
     ]
    }
   ],
   "source": [
    "def parse_args():\n",
    "    parser = ArgumentParser()\n",
    "\n",
    "    # Conventional args\n",
    "    parser.add_argument('--data_dir', default='../../input/data/merged-dataset/')\n",
    "    parser.add_argument('--model_dir', default='../trained_models/')\n",
    "    parser.add_argument('--output_dir', default='./')\n",
    "\n",
    "    parser.add_argument('--device', default='cuda' if cuda.is_available() else 'cpu')\n",
    "    parser.add_argument('--input_size', type=int, default=1024)\n",
    "    parser.add_argument('--batch_size', type=int, default=1)\n",
    "\n",
    "    args = parser.parse_args('')\n",
    "\n",
    "    if args.input_size % 32 != 0:\n",
    "        raise ValueError('`input_size` must be a multiple of 32')\n",
    "\n",
    "    return args\n",
    "args = parse_args()\n",
    "print(args)"
   ]
  },
  {
   "cell_type": "code",
   "execution_count": 17,
   "metadata": {},
   "outputs": [
    {
     "name": "stdout",
     "output_type": "stream",
     "text": [
      "Inference in progress\n"
     ]
    },
    {
     "name": "stderr",
     "output_type": "stream",
     "text": [
      " 27%|██▋       | 691/2563 [04:28<09:41,  3.22it/s]Invalid SOS parameters for sequential JPEG\n",
      "100%|██████████| 2563/2563 [16:06<00:00,  2.65it/s]\n"
     ]
    }
   ],
   "source": [
    "# Initialize model\n",
    "model = EAST(pretrained=False).to(args.device)\n",
    "# Get paths to checkpoint files\n",
    "ckpt_fpath = osp.join(args.model_dir, 'latest.pth')\n",
    "\n",
    "if not osp.exists(args.output_dir):\n",
    "    os.makedirs(args.output_dir)\n",
    "\n",
    "print('Inference in progress')\n",
    "\n",
    "ufo_result = dict(images=dict())\n",
    "split_result = do_inference(model, ckpt_fpath, args.data_dir, args.input_size,\n",
    "                                args.batch_size, split='images')\n",
    "ufo_result['images'].update(split_result['images'])\n",
    "\n",
    "output_fname = 'pred.json'\n",
    "with open(osp.join(args.output_dir, output_fname), 'w') as f:\n",
    "    json.dump(ufo_result, f, indent=4)"
   ]
  },
  {
   "cell_type": "code",
   "execution_count": null,
   "metadata": {},
   "outputs": [],
   "source": []
  }
 ],
 "metadata": {
  "kernelspec": {
   "display_name": "base",
   "language": "python",
   "name": "python3"
  },
  "language_info": {
   "codemirror_mode": {
    "name": "ipython",
    "version": 3
   },
   "file_extension": ".py",
   "mimetype": "text/x-python",
   "name": "python",
   "nbconvert_exporter": "python",
   "pygments_lexer": "ipython3",
   "version": "3.8.5 (default, Sep  4 2020, 07:30:14) \n[GCC 7.3.0]"
  },
  "orig_nbformat": 4,
  "vscode": {
   "interpreter": {
    "hash": "d4d1e4263499bec80672ea0156c357c1ee493ec2b1c70f0acce89fc37c4a6abe"
   }
  }
 },
 "nbformat": 4,
 "nbformat_minor": 2
}
