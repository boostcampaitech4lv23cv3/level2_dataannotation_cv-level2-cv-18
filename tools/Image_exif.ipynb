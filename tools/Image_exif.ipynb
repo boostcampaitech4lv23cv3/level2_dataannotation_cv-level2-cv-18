{
 "cells": [
  {
   "cell_type": "code",
   "execution_count": 1,
   "id": "83ac4742-7aea-46e8-9f93-0f45a33efff1",
   "metadata": {},
   "outputs": [],
   "source": [
    "import json\n",
    "import os\n",
    "import cv2\n",
    "import numpy as np\n",
    "import math\n",
    "from glob import glob\n",
    "from PIL import Image, ExifTags"
   ]
  },
  {
   "cell_type": "markdown",
   "id": "90047578-7d1b-49ff-8897-26055ac3c446",
   "metadata": {},
   "source": [
    "# dataset path\n",
    "- 데이터 구조\n",
    "  - <데이터 셋 이름> 폴더\n",
    "    - exif_images <변경 전>\n",
    "    - images <변경 후>\n",
    "    - UFO\n",
    "      - train.json"
   ]
  },
  {
   "cell_type": "markdown",
   "id": "cb2cc0d0-d3d0-49be-a1c0-19e5e05726c6",
   "metadata": {},
   "source": [
    "# Config"
   ]
  },
  {
   "cell_type": "code",
   "execution_count": 16,
   "id": "90a0b7e6-d751-4a5f-b5f1-1ab785ade2b2",
   "metadata": {},
   "outputs": [
    {
     "name": "stdout",
     "output_type": "stream",
     "text": [
      "8281\n"
     ]
    }
   ],
   "source": [
    "data_dir = '/opt/ml/input/data/hiertext'  ## datasets path\n",
    "\n",
    "save_path = '/opt/ml/input/data/hiertext'\n",
    "\n",
    "if not os.path.exists(os.path.join(save_path, 'images')):\n",
    "    os.makedirs(os.path.join(save_path, 'images'))\n",
    "\n",
    "with open(os.path.join(data_dir, 'ufo/{}.json'.format('train')), 'r') as f:\n",
    "    anno = json.load(f)\n",
    "    \n",
    "image_fnames = sorted(anno['images'].keys())\n",
    "\n",
    "print(len(image_fnames))"
   ]
  },
  {
   "cell_type": "markdown",
   "id": "9e26a318-2fb1-41fd-afce-b14a6330588c",
   "metadata": {},
   "source": [
    "# tag 정보 불러와서 이미지 회전시키고 저장"
   ]
  },
  {
   "cell_type": "code",
   "execution_count": 19,
   "id": "9a856946-5876-4020-8959-5e873329faf5",
   "metadata": {},
   "outputs": [],
   "source": [
    "for file in image_fnames:\n",
    "    image_path = os.path.join(data_dir, 'exif_images', file)\n",
    "    image = Image.open(image_path)\n",
    "    try:\n",
    "        for orientation in ExifTags.TAGS.keys():\n",
    "            if ExifTags.TAGS[orientation]=='Orientation':\n",
    "                break\n",
    "        exif=dict(image._getexif().items())\n",
    "        if exif[orientation] == 3:\n",
    "            image=image.rotate(180, expand=True)\n",
    "        elif exif[orientation] == 6:\n",
    "            image=image.rotate(270, expand=True)\n",
    "        elif exif[orientation] == 8:\n",
    "            image=image.rotate(90, expand=True)\n",
    "    except (AttributeError, KeyError, IndexError):\n",
    "        # cases: image don't have getexif\n",
    "        pass\n",
    "    extension = file.split('.')[-1]\n",
    "    if extension == 'jpg' or extension == 'JPG':\n",
    "        extension = 'JPEG'\n",
    "    image.save(os.path.join(save_path,'images',file) , extension)"
   ]
  },
  {
   "cell_type": "code",
   "execution_count": null,
   "id": "5802cd47-5ea2-45ac-93a9-13de5c388c23",
   "metadata": {},
   "outputs": [],
   "source": []
  }
 ],
 "metadata": {
  "kernelspec": {
   "display_name": "Python 3 (ipykernel)",
   "language": "python",
   "name": "python3"
  },
  "language_info": {
   "codemirror_mode": {
    "name": "ipython",
    "version": 3
   },
   "file_extension": ".py",
   "mimetype": "text/x-python",
   "name": "python",
   "nbconvert_exporter": "python",
   "pygments_lexer": "ipython3",
   "version": "3.8.5"
  }
 },
 "nbformat": 4,
 "nbformat_minor": 5
}
