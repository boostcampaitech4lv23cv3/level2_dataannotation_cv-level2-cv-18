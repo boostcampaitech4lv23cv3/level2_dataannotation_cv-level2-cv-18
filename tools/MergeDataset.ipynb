{
 "cells": [
  {
   "cell_type": "markdown",
   "id": "f8a9740c-7387-41fe-a410-0f2d52534e3a",
   "metadata": {},
   "source": [
    "# Dataset Merge"
   ]
  },
  {
   "cell_type": "code",
   "execution_count": 1,
   "id": "75c7d4e2-741a-4034-8506-7994f176ef7b",
   "metadata": {},
   "outputs": [],
   "source": [
    "import json\n",
    "import os\n",
    "import cv2\n",
    "import numpy as np\n",
    "import json\n",
    "import pandas\n",
    "import matplotlib.pyplot as plt\n",
    "import shutil"
   ]
  },
  {
   "cell_type": "markdown",
   "id": "1811c386-a620-4420-87dd-d478d232f045",
   "metadata": {},
   "source": [
    "# dataset path\n",
    "- 데이터 구조\n",
    "  - <데이터 셋 이름> 폴더\n",
    "    - images\n",
    "    - UFO\n",
    "      - train.json"
   ]
  },
  {
   "cell_type": "markdown",
   "id": "83bd5531-2dfd-40de-bb5a-b36139600ad2",
   "metadata": {},
   "source": [
    "# config"
   ]
  },
  {
   "cell_type": "code",
   "execution_count": 6,
   "id": "d09baaba-d250-485b-a599-66e880cdf848",
   "metadata": {},
   "outputs": [],
   "source": [
    "dataset_1_path = '/opt/ml/input/data/camper-dataset'\n",
    "dataset_2_path = '/opt/ml/input/data/ICDAR17_Korean'\n",
    "\n",
    "save_path = '/opt/ml/input/data/mergeDataset'\n",
    "\n",
    "if not os.path.exists(save_path):\n",
    "    os.makedirs(save_path)\n",
    "if not os.path.exists(os.path.join(save_path, 'images')):\n",
    "    os.makedirs(os.path.join(save_path, 'images'))\n",
    "if not os.path.exists(os.path.join(save_path, 'ufo')):\n",
    "    os.makedirs(os.path.join(save_path, 'ufo'))"
   ]
  },
  {
   "cell_type": "markdown",
   "id": "874b3eed-1c81-4dfe-bb38-4a4f0796f38d",
   "metadata": {},
   "source": [
    "# merge json"
   ]
  },
  {
   "cell_type": "code",
   "execution_count": 7,
   "id": "e7883a92-5510-417e-bc8a-8e3e051a5fb5",
   "metadata": {},
   "outputs": [
    {
     "name": "stdout",
     "output_type": "stream",
     "text": [
      "data1 len: 974\n",
      "data2 len: 536\n",
      "total data len: 1510\n"
     ]
    }
   ],
   "source": [
    "with open(os.path.join(dataset_1_path, 'ufo/{}.json'.format('train')), 'r') as f:\n",
    "    anno1 = json.load(f)\n",
    "with open(os.path.join(dataset_2_path, 'ufo/{}.json'.format('train')), 'r') as f:\n",
    "    anno2 = json.load(f)\n",
    "#print(anno1['images'].keys())\n",
    "print('data1 len:',len(anno1['images'].keys()))\n",
    "#print(anno2['images'].keys())\n",
    "print('data2 len:',len(anno2['images'].keys()))\n",
    "\n",
    "anno = dict()\n",
    "anno['images'] = dict()\n",
    "anno['images'].update(anno1['images'])\n",
    "anno['images'].update(anno2['images'])\n",
    "\n",
    "print('total data len:',len(anno['images'].keys()))\n",
    "\n",
    "with open(os.path.join(save_path, 'ufo/train.json'), \"w\") as json_file:\n",
    "  json.dump(anno, json_file)"
   ]
  },
  {
   "cell_type": "markdown",
   "id": "00b8331a-945b-4765-a2f6-41ed52cb6b5c",
   "metadata": {
    "tags": []
   },
   "source": [
    "# images copy"
   ]
  },
  {
   "cell_type": "code",
   "execution_count": 8,
   "id": "338ce253-a1ea-4daa-b241-dfa60e085f3f",
   "metadata": {},
   "outputs": [],
   "source": [
    "for file in anno1['images'].keys():\n",
    "    if not os.path.exists(os.path.join(save_path, \"images\", file)):\n",
    "        shutil.copy(os.path.join(dataset_1_path, \"images\", file), os.path.join(save_path, \"images\", file))\n",
    "\n",
    "for file in anno2['images'].keys():\n",
    "    if not os.path.exists(os.path.join(save_path, \"images\", file)):\n",
    "        shutil.copy(os.path.join(dataset_2_path, \"images\", file), os.path.join(save_path, \"images\", file))"
   ]
  },
  {
   "cell_type": "code",
   "execution_count": 9,
   "id": "f017381a-6ec6-4fa3-97f0-49be429eaa8a",
   "metadata": {},
   "outputs": [
    {
     "data": {
      "text/plain": [
       "1510"
      ]
     },
     "execution_count": 9,
     "metadata": {},
     "output_type": "execute_result"
    }
   ],
   "source": [
    "len(os.listdir(os.path.join(save_path, \"images\")))"
   ]
  },
  {
   "cell_type": "code",
   "execution_count": null,
   "id": "5da7b837-4ae4-4af8-9090-4730f700abcf",
   "metadata": {},
   "outputs": [],
   "source": []
  },
  {
   "cell_type": "code",
   "execution_count": null,
   "id": "28b27664-5cc8-4fa0-afab-f267f52c8bef",
   "metadata": {},
   "outputs": [],
   "source": []
  }
 ],
 "metadata": {
  "kernelspec": {
   "display_name": "base",
   "language": "python",
   "name": "python3"
  },
  "language_info": {
   "codemirror_mode": {
    "name": "ipython",
    "version": 3
   },
   "file_extension": ".py",
   "mimetype": "text/x-python",
   "name": "python",
   "nbconvert_exporter": "python",
   "pygments_lexer": "ipython3",
   "version": "3.8.5 (default, Sep  4 2020, 07:30:14) \n[GCC 7.3.0]"
  },
  "vscode": {
   "interpreter": {
    "hash": "d4d1e4263499bec80672ea0156c357c1ee493ec2b1c70f0acce89fc37c4a6abe"
   }
  }
 },
 "nbformat": 4,
 "nbformat_minor": 5
}
