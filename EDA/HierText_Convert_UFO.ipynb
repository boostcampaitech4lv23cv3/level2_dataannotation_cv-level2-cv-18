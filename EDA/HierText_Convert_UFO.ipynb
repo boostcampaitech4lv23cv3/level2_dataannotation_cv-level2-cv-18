{
 "cells": [
  {
   "cell_type": "code",
   "execution_count": 1,
   "metadata": {},
   "outputs": [],
   "source": [
    "%matplotlib inline\n",
    "import glob\n",
    "import json\n",
    "import matplotlib.pyplot as plt\n",
    "import pandas as pd\n",
    "import seaborn as sns\n",
    "from pathlib import Path\n",
    "from PIL import Image\n",
    "from collections import Counter\n",
    "import numpy as np"
   ]
  },
  {
   "cell_type": "code",
   "execution_count": 2,
   "metadata": {},
   "outputs": [],
   "source": [
    "from IPython.core.interactiveshell import InteractiveShell\n",
    "InteractiveShell.ast_node_interactivity = \"all\""
   ]
  },
  {
   "cell_type": "code",
   "execution_count": 3,
   "metadata": {},
   "outputs": [],
   "source": [
    "def read_json(filename):\n",
    "    with Path(filename).open(encoding='utf8') as handle:\n",
    "        ann = json.load(handle)\n",
    "    return ann"
   ]
  },
  {
   "cell_type": "code",
   "execution_count": 4,
   "metadata": {},
   "outputs": [],
   "source": [
    "data = read_json(\"train.jsonl\")"
   ]
  },
  {
   "cell_type": "code",
   "execution_count": 5,
   "metadata": {},
   "outputs": [],
   "source": [
    "import json\n",
    "from collections import OrderedDict\n",
    "\n",
    "test_data = OrderedDict()\n",
    "images = OrderedDict()\n",
    "words = OrderedDict()\n",
    "cnt2 = 0\n",
    "cnt = 0\n",
    "\n",
    "for i in data[\"annotations\"]:\n",
    "    cnt2 += cnt\n",
    "    cnt = 0\n",
    "    for j in i['paragraphs']:\n",
    "        for k in j['lines']:\n",
    "            for q in k['words']:\n",
    "                if q[\"vertical\"] == 'false':\n",
    "                    check_h = 'Horizontal'\n",
    "                else:\n",
    "                    check_h = 'Vertical'\n",
    "                    \n",
    "                words[\"{}\".format(cnt)] = {\"points\" : q['vertices'],\"transcription\" : q['text'], \"language\" : [\"ko\"], \"illegibility\" : q['legible'],\"orientation\": check_h,\"tags\" : 'Null' }\n",
    "                cnt += 1\n",
    "                \n",
    "    images['{}'.format(i['image_id'])] = {'img_h':i['image_height'],'img_w':i['image_width'], 'words' : words}        \n",
    "    if cnt2  >= 10000 :\n",
    "        test_data[\"images\"] = images\n",
    "        a = 1\n",
    "        file_path = '/opt/ml/code/EDA/HierText_Convert/Hier_Test_{}.json'.format(a)\n",
    "        with open(file_path, 'w') as f:\n",
    "            json.dump(test_data,f,ensure_ascii=False, indent=\"\\t\")\n",
    "        a += 1\n",
    "        cnt2 = 0\n",
    "        test_data = OrderedDict()\n",
    "        images = OrderedDict()\n",
    "        words = OrderedDict()\n",
    "# test_data[\"images\"] = images"
   ]
  },
  {
   "cell_type": "code",
   "execution_count": 7,
   "metadata": {},
   "outputs": [],
   "source": [
    "file_path = '/opt/ml/code/EDA/Hier_Test.json'\n",
    "with open(file_path, 'w') as f:\n",
    "    json.dump(test_data,f)"
   ]
  }
 ],
 "metadata": {
  "kernelspec": {
   "display_name": "Python 3.8.5 ('base')",
   "language": "python",
   "name": "python3"
  },
  "language_info": {
   "codemirror_mode": {
    "name": "ipython",
    "version": 3
   },
   "file_extension": ".py",
   "mimetype": "text/x-python",
   "name": "python",
   "nbconvert_exporter": "python",
   "pygments_lexer": "ipython3",
   "version": "3.8.5"
  },
  "orig_nbformat": 4,
  "vscode": {
   "interpreter": {
    "hash": "d4d1e4263499bec80672ea0156c357c1ee493ec2b1c70f0acce89fc37c4a6abe"
   }
  }
 },
 "nbformat": 4,
 "nbformat_minor": 2
}
